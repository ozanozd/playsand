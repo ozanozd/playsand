{
  "nbformat": 4,
  "nbformat_minor": 0,
  "metadata": {
    "colab": {
      "provenance": [],
      "authorship_tag": "ABX9TyNaetBBv6ec145GgQjr5Qs1",
      "include_colab_link": true
    },
    "kernelspec": {
      "name": "python3",
      "display_name": "Python 3"
    },
    "language_info": {
      "name": "python"
    }
  },
  "cells": [
    {
      "cell_type": "markdown",
      "metadata": {
        "id": "view-in-github",
        "colab_type": "text"
      },
      "source": [
        "<a href=\"https://colab.research.google.com/github/ozanozd/playsand/blob/main/Python_Cheat_Sheet.ipynb\" target=\"_parent\"><img src=\"https://colab.research.google.com/assets/colab-badge.svg\" alt=\"Open In Colab\"/></a>"
      ]
    },
    {
      "cell_type": "code",
      "source": [
        "import numpy as np\n",
        "import pandas as pd"
      ],
      "metadata": {
        "id": "PHII54qrYdDc"
      },
      "execution_count": null,
      "outputs": []
    },
    {
      "cell_type": "markdown",
      "source": [
        "## Basics\n"
      ],
      "metadata": {
        "id": "j9GvzdDXcUjp"
      }
    },
    {
      "cell_type": "code",
      "source": [
        "# List\n",
        "fruits = [\"apple\", \"banana\", \"cherry\"]\n",
        "\n",
        "# Tuple (Immutable)\n",
        "coordinates = (4, 5)\n",
        "\n",
        "# Set\n",
        "unique_numbers = {1, 2, 3, 4, 5}\n",
        "\n",
        "# Dictionary\n",
        "person = {\"name\": \"Alice\", \"age\": 30}\n",
        "\n",
        "# A simple lambda function to add two numbers\n",
        "add = lambda x, y: x + y\n",
        "print(add(5, 3))\n",
        "\n",
        "squares = [x**2 for x in range(10)]\n",
        "print(squares)\n",
        "\n",
        "# With condition\n",
        "even_squares = [x**2 for x in range(10) if x % 2 == 0]\n",
        "print(even_squares)\n",
        "\n",
        "text = \"hello world\"\n",
        "\n",
        "# Capitalize\n",
        "print(text.capitalize())\n",
        "\n",
        "# Replace\n",
        "print(text.replace(\"hello\", \"goodbye\"))\n",
        "\n",
        "# Split into a list\n",
        "print(text.split())\n",
        "\n",
        "with open('file.txt', 'r') as file:\n",
        "    content = file.read()\n",
        "    print(content)\n",
        "\n",
        "with open('output.txt', 'w') as file:\n",
        "    file.write(\"Hello, World!\")\n",
        "\n",
        "try:\n",
        "    print(10 / 0)\n",
        "except ZeroDivisionError:\n",
        "    print(\"You can't divide by zero!\")\n",
        "\n",
        "\n",
        "class Dog:\n",
        "    def __init__(self, name):\n",
        "        self.name = name\n",
        "\n",
        "    def bark(self):\n",
        "        print(\"Woof!\")\n",
        "\n",
        "# Create an instance of Dog\n",
        "my_dog = Dog(\"Rex\")\n",
        "my_dog.bark()\n",
        "\n",
        "\n",
        "squares = {x: x*x for x in range(6)}\n",
        "print(squares)\n",
        "\n",
        "\n",
        "# Map example\n",
        "nums = [1, 2, 3, 4, 5]\n",
        "squared = list(map(lambda x: x ** 2, nums))\n",
        "print(squared)\n",
        "\n",
        "# Filter example\n",
        "even = list(filter(lambda x: x % 2 == 0, nums))\n",
        "print(even)\n",
        "\n",
        "# Append to a list\n",
        "fruits.append(\"orange\")\n",
        "\n",
        "# Remove from a list\n",
        "fruits.remove(\"banana\")\n",
        "\n",
        "# Insert into a list\n",
        "fruits.insert(1, \"blueberry\")\n"
      ],
      "metadata": {
        "id": "LROrK2lRcW4t"
      },
      "execution_count": null,
      "outputs": []
    },
    {
      "cell_type": "markdown",
      "source": [
        "## Reading Data"
      ],
      "metadata": {
        "id": "QT6NbZb5YMcH"
      }
    },
    {
      "cell_type": "code",
      "execution_count": null,
      "metadata": {
        "id": "FnDOM4eTX8Vo"
      },
      "outputs": [],
      "source": [
        "# Read from CSV\n",
        "df = pd.read_csv('file.csv')\n",
        "\n",
        "# Read from Excel\n",
        "df = pd.read_excel('file.xlsx')"
      ]
    },
    {
      "cell_type": "markdown",
      "source": [
        "## Accessing Data"
      ],
      "metadata": {
        "id": "UK_Bbo5iYS3h"
      }
    },
    {
      "cell_type": "code",
      "source": [
        "# View the first few rows of the DataFrame\n",
        "df.head()\n",
        "\n",
        "# Summary statistics for numerical columns\n",
        "df.describe()\n",
        "\n",
        "# Data types of each column\n",
        "df.dtypes\n"
      ],
      "metadata": {
        "id": "cvr-2vB7YYi_"
      },
      "execution_count": null,
      "outputs": []
    },
    {
      "cell_type": "markdown",
      "source": [
        "## Data Manipulation\n"
      ],
      "metadata": {
        "id": "asgOPhcjYn5e"
      }
    },
    {
      "cell_type": "code",
      "source": [
        "# Select a column\n",
        "df['column_name']\n",
        "\n",
        "# Select multiple columns\n",
        "df[['col1', 'col2']]\n",
        "\n",
        "# Filter rows\n",
        "df[df['column'] > value]\n",
        "\n",
        "# Add a new column\n",
        "df['new_column'] = df['column1'] + df['column2']\n",
        "\n",
        "# Apply a function to a column\n",
        "df['column'] = df['column'].apply(lambda x: x*2)\n",
        "\n",
        "# Drop a column\n",
        "df.drop('column', axis=1, inplace=True)"
      ],
      "metadata": {
        "id": "Qg4b3W6yYxh9"
      },
      "execution_count": null,
      "outputs": []
    },
    {
      "cell_type": "markdown",
      "source": [
        "## Visualisation"
      ],
      "metadata": {
        "id": "gPZBjzcEbNDz"
      }
    },
    {
      "cell_type": "code",
      "source": [
        "import matplotlib.pyplot as plt\n",
        "\n",
        "# Line plot\n",
        "plt.figure(figsize=(10, 5))\n",
        "plt.plot(df['column'], label='Data')\n",
        "plt.legend()\n",
        "plt.show()\n",
        "\n",
        "# Histogram\n",
        "plt.hist(df['column'], bins=20)\n",
        "plt.show()\n",
        "\n",
        "\n",
        "import seaborn as sns\n",
        "\n",
        "# Correlation heatmap\n",
        "sns.heatmap(df.corr(), annot=True)\n",
        "\n",
        "# Pairplot\n",
        "sns.pairplot(df)"
      ],
      "metadata": {
        "id": "DyN8jelCbPbz"
      },
      "execution_count": null,
      "outputs": []
    },
    {
      "cell_type": "markdown",
      "source": [
        "## New Section"
      ],
      "metadata": {
        "id": "SiLlCT4rbSOr"
      }
    },
    {
      "cell_type": "markdown",
      "source": [
        "## Basic Operation with time"
      ],
      "metadata": {
        "id": "mgSv9begY2ur"
      }
    },
    {
      "cell_type": "code",
      "source": [
        "# Convert a column to datetime\n",
        "df['date'] = pd.to_datetime(df['date'])\n",
        "\n",
        "# Set the datetime column as index\n",
        "df.set_index('date', inplace=True)\n",
        "\n",
        "# Resampling data (e.g., to monthly data)\n",
        "df.resample('M').mean()\n",
        "\n",
        "# Rolling window operations\n",
        "df['column'].rolling(window=3).mean()\n"
      ],
      "metadata": {
        "id": "xBrpuRAzY6uU"
      },
      "execution_count": null,
      "outputs": []
    },
    {
      "cell_type": "markdown",
      "source": [
        "## Simple Statistics"
      ],
      "metadata": {
        "id": "RX-1tyqRY7qT"
      }
    },
    {
      "cell_type": "code",
      "source": [
        "# Mean, Median, Standard Deviation\n",
        "mean_value = df['column'].mean()\n",
        "median_value = df['column'].median()\n",
        "std_dev = df['column'].std()\n",
        "\n",
        "# Pairwise correlation\n",
        "df.corr()\n",
        "\n",
        "# Correlation of two specific columns\n",
        "df['col1'].corr(df['col2'])\n"
      ],
      "metadata": {
        "id": "98Tm4U5FZImE"
      },
      "execution_count": null,
      "outputs": []
    },
    {
      "cell_type": "markdown",
      "source": [
        "## Hypothesis Testing\n"
      ],
      "metadata": {
        "id": "Ou_7sqWUZQbS"
      }
    },
    {
      "cell_type": "code",
      "source": [
        "from scipy import stats\n",
        "\n",
        "# T-test\n",
        "stats.ttest_1samp(df['column'], popmean=0)\n",
        "\n",
        "# ANOVA\n",
        "stats.f_oneway(df['col1'], df['col2'], df['col3'])\n"
      ],
      "metadata": {
        "id": "edwDR41aZX20"
      },
      "execution_count": null,
      "outputs": []
    },
    {
      "cell_type": "markdown",
      "source": [
        "## Linear Regression\n"
      ],
      "metadata": {
        "id": "9EWv80yHZTLo"
      }
    },
    {
      "cell_type": "code",
      "source": [
        "# Single LR\n",
        "\n",
        "from sklearn.linear_model import LinearRegression\n",
        "\n",
        "X = df[['independent_var']]\n",
        "y = df['dependent_var']\n",
        "\n",
        "model = LinearRegression()\n",
        "model.fit(X, y)\n",
        "\n",
        "# Coefficients\n",
        "print(model.coef_)\n",
        "\n",
        "# Predictions\n",
        "predictions = model.predict(X)\n",
        "\n",
        "# Multi LR\n",
        "\n",
        "X = df[['independent_var1', 'independent_var2']]\n",
        "y = df['dependent_var']\n",
        "\n",
        "model = LinearRegression()\n",
        "model.fit(X, y)\n",
        "\n",
        "# Coefficients and Intercept\n",
        "print(model.coef_, model.intercept_)\n"
      ],
      "metadata": {
        "id": "8ZjVPFheZnHW"
      },
      "execution_count": null,
      "outputs": []
    },
    {
      "cell_type": "markdown",
      "source": [
        "## Machine Learning for Quantitative Analysis"
      ],
      "metadata": {
        "id": "MvCyZiYvZxj6"
      }
    },
    {
      "cell_type": "code",
      "source": [
        "# Random Forest\n",
        "\n",
        "from sklearn.ensemble import RandomForestRegressor\n",
        "\n",
        "X = df[['feature1', 'feature2']]\n",
        "y = df['target']\n",
        "\n",
        "model = RandomForestRegressor()\n",
        "model.fit(X, y)\n",
        "\n",
        "# Feature Importance\n",
        "print(model.feature_importances_)\n",
        "\n",
        "# Predictions\n",
        "predictions = model.predict(X)\n",
        "\n",
        "# Gradient Boosting\n",
        "\n",
        "from sklearn.ensemble import GradientBoostingRegressor\n",
        "\n",
        "model = GradientBoostingRegressor()\n",
        "model.fit(X, y)\n",
        "\n",
        "# Predictions\n",
        "predictions = model.predict(X)\n"
      ],
      "metadata": {
        "id": "ohKekLB2ZwiS"
      },
      "execution_count": null,
      "outputs": []
    },
    {
      "cell_type": "markdown",
      "source": [
        "## Portfolio Optimisation"
      ],
      "metadata": {
        "id": "0-2iPrXcZ6oo"
      }
    },
    {
      "cell_type": "code",
      "source": [
        "from scipy.optimize import minimize\n",
        "\n",
        "# Objective function (e.g., Sharpe ratio)\n",
        "def objective(weights):\n",
        "    return -portfolio_return(weights) / portfolio_volatility(weights)\n",
        "\n",
        "# Constraints and bounds\n",
        "cons = ({'type': 'eq', 'fun': lambda x: np.sum(x) - 1})\n",
        "bounds = tuple((0, 1) for _ in range(n_assets))\n",
        "\n",
        "# Optimization\n",
        "opt_results = minimize(objective, x0, method='SLSQP', bounds=bounds, constraints=cons)\n"
      ],
      "metadata": {
        "id": "-OaFTbywa5_x"
      },
      "execution_count": null,
      "outputs": []
    },
    {
      "cell_type": "markdown",
      "source": [
        "## Algorithmic Trading and Backtesting (Simple Moving Average)"
      ],
      "metadata": {
        "id": "2GlvvfPMa7EI"
      }
    },
    {
      "cell_type": "code",
      "source": [
        "# Compute moving averages\n",
        "df['short_mavg'] = df['price'].rolling(window=40).mean()\n",
        "df['long_mavg'] = df['price'].rolling(window=100).mean()\n",
        "\n",
        "# Signals\n",
        "df['signal'] = np.where(df['short_mavg'] > df['long_mavg'], 1, 0)\n",
        "df['positions'] = df['signal'].diff()\n"
      ],
      "metadata": {
        "id": "3MZMTFP6bBXk"
      },
      "execution_count": null,
      "outputs": []
    },
    {
      "cell_type": "code",
      "source": [
        "# Merge Sort Explanation\n",
        "\n",
        "\"\"\"\n",
        "Merge Sort is a divide-and-conquer algorithm that splits the array into halves,\n",
        "recursively sorts each half, and then merges the sorted halves to produce a\n",
        "sorted array.\n",
        "\n",
        "Steps:\n",
        "1. Divide the array into two halves.\n",
        "2. Recursively sort each half.\n",
        "3. Merge the two halves to produce a sorted array.\n",
        "\n",
        "Algorithm Complexity:\n",
        "- Time Complexity: O(n log n) for all cases (best, average, and worst).\n",
        "- Space Complexity: O(n) additional space for the temporary arrays.\n",
        "\n",
        "Example Process:\n",
        "Given the array [3, 1, 4, 1, 5, 9, 2, 6, 5, 3, 5]:\n",
        "\n",
        "1. Divide into [3, 1, 4, 1, 5] and [9, 2, 6, 5, 3, 5].\n",
        "2. Sort each half:\n",
        "   - [3, 1, 4, 1, 5] -> [1, 1, 3, 4, 5]\n",
        "   - [9, 2, 6, 5, 3, 5] -> [2, 3, 5, 5, 6, 9]\n",
        "3. Merge:\n",
        "   - [1, 1, 2, 3, 3, 4, 5, 5, 5, 6, 9]\n",
        "\n",
        "\"\"\"\n",
        "\n",
        "def merge_sort(arr):\n",
        "    if len(arr) > 1:\n",
        "        mid = len(arr) // 2\n",
        "        L = arr[:mid]\n",
        "        R = arr[mid:]\n",
        "\n",
        "        merge_sort(L)\n",
        "        merge_sort(R)\n",
        "\n",
        "        i = j = k = 0\n",
        "\n",
        "        # Merging the sorted halves\n",
        "        while i < len(L) and j < len(R):\n",
        "            if L[i] < R[j]:\n",
        "                arr[k] = L[i]\n",
        "                i += 1\n",
        "            else:\n",
        "                arr[k] = R[j]\n",
        "                j += 1\n",
        "            k += 1\n",
        "\n",
        "        # Copy remaining elements of L[] if any\n",
        "        while i < len(L):\n",
        "            arr[k] = L[i]\n",
        "            i += 1\n",
        "            k += 1\n",
        "\n",
        "        # Copy remaining elements of R[] if any\n",
        "        while j < len(R):\n",
        "            arr[k] = R[j]\n",
        "            j += 1\n",
        "            k += 1\n",
        "\n",
        "# Example usage of merge sort\n",
        "arr = [12, 11, 13, 5, 6, 7]\n",
        "merge_sort(arr)\n",
        "print(\"Sorted array using Merge Sort:\", arr)\n"
      ],
      "metadata": {
        "id": "HWFuzmfhnoD1"
      },
      "execution_count": null,
      "outputs": []
    },
    {
      "cell_type": "code",
      "source": [
        "# Bubble Sort Explanation\n",
        "\n",
        "\"\"\"\n",
        "Bubble Sort is a simple comparison-based algorithm in which each pair of adjacent\n",
        "elements is compared and the elements are swapped if they are not in order.\n",
        "This process is repeated until the list is sorted.\n",
        "\n",
        "Steps:\n",
        "1. Compare adjacent elements and swap them if they are in the wrong order.\n",
        "2. After each pass, the next largest element will have bubbled to its correct position.\n",
        "3. Repeat the process for the rest of the elements.\n",
        "\n",
        "Algorithm Complexity:\n",
        "- Time Complexity:\n",
        "  - Best Case: O(n) when the array is already sorted.\n",
        "  - Average and Worst Case: O(n^2).\n",
        "- Space Complexity: O(1), as it's an in-place sorting algorithm.\n",
        "\n",
        "Example Process:\n",
        "Given the array [5, 3, 8, 4, 2]:\n",
        "\n",
        "1. First Pass:\n",
        "   - [5, 3, 8, 4, 2] -> [3, 5, 8, 4, 2]\n",
        "   - [3, 5, 8, 4, 2] -> [3, 5, 8, 4, 2]\n",
        "   - [3, 5, 8, 4, 2] -> [3, 5, 4, 8, 2]\n",
        "   - [3, 5, 4, 8, 2] -> [3, 5, 4, 2, 8]\n",
        "2. Second Pass:\n",
        "   - [3, 5, 4, 2, 8] -> [3, 5, 4, 2, 8]\n",
        "   - [3, 5, 4, 2, 8] -> [3, 4, 5, 2, 8]\n",
        "   - [3, 4, 5, 2, 8] -> [3, 4, 2, 5, 8]\n",
        "3. Continue this process...\n",
        "\n",
        "\"\"\"\n",
        "\n",
        "def bubble_sort(arr):\n",
        "    n = len(arr)\n",
        "    for i in range(n):\n",
        "        swapped = False\n",
        "        for j in range(0, n - i - 1):\n",
        "            if arr[j] > arr[j + 1]:\n",
        "                arr[j], arr[j + 1] = arr[j + 1], arr[j]\n",
        "                swapped = True\n",
        "        if not swapped:\n",
        "            break\n",
        "\n",
        "# Example usage of bubble sort\n",
        "arr = [64, 34, 25, 12, 22, 11, 90]\n",
        "bubble_sort(arr)\n",
        "print(\"Sorted array using Bubble Sort:\", arr)\n"
      ],
      "metadata": {
        "id": "Pe5e4StLnwni"
      },
      "execution_count": null,
      "outputs": []
    }
  ]
}